{
 "cells": [
  {
   "cell_type": "code",
   "execution_count": 13,
   "metadata": {},
   "outputs": [
    {
     "name": "stdout",
     "output_type": "stream",
     "text": [
      "usage: complete_module_viet.py [-h] [--bs BS] [--num_epochs NUM_EPOCHS]\r\n",
      "                               [--save_dir SAVE_DIR] --model_name MODEL_NAME\r\n",
      "                               [--model_load MODEL_LOAD] [--max_len MAX_LEN]\r\n",
      "                               [--hid_size HID_SIZE] [--lr LR] [--bi BI]\r\n",
      "                               [--type TYPE]\r\n",
      "\r\n",
      "optional arguments:\r\n",
      "  -h, --help            show this help message and exit\r\n",
      "  --bs BS               Batch size\r\n",
      "  --num_epochs NUM_EPOCHS\r\n",
      "                        Number of epochs\r\n",
      "  --save_dir SAVE_DIR   directory where models are to be saved.\r\n",
      "                        default=./saved_files/\r\n",
      "  --model_name MODEL_NAME\r\n",
      "                        Name of model to be saved, required=True\r\n",
      "  --model_load MODEL_LOAD\r\n",
      "                        model to load for continued training. default=None\r\n",
      "  --max_len MAX_LEN     Maximum length of input sentence to consider.\r\n",
      "                        default=30\r\n",
      "  --hid_size HID_SIZE   hidden size for GRU. default=100\r\n",
      "  --lr LR               Learning rate. default=1e-4\r\n",
      "  --bi BI               Use bidirectional GRUs or not. default=True\r\n",
      "  --type TYPE           attention model or non attention model.\r\n",
      "                        options=[\"attention\",\"no_attention\"].\r\n",
      "                        default=\"no_attention\"\r\n"
     ]
    }
   ],
   "source": [
    "!python complete_module_viet.py --help"
   ]
  },
  {
   "cell_type": "code",
   "execution_count": 12,
   "metadata": {},
   "outputs": [
    {
     "name": "stdout",
     "output_type": "stream",
     "text": [
      "start\n",
      "data loader created\n",
      "encoder decoder objects created\n",
      "starting the training process\n",
      "epoch 0 train loss = 8.035253628465274, accurancy = 0 time = 537.9063544273376\n",
      "epoch 0 validate loss = 6.581812866366639, accurancy = 0 time = 2.167210340499878\n",
      "^C\n",
      "Traceback (most recent call last):\n",
      "  File \"complete_module_viet.py\", line 141, in <module>\n",
      "    args.max_len, args.type, dataloader, num_epochs = args.num_epochs)\n",
      "  File \"/home/cvh255/machine_translation/define_training_viet.py\", line 100, in train_model\n",
      "    loss.backward()\n",
      "  File \"/home/cvh255/pyenv/py3.6.3/lib/python3.6/site-packages/torch/tensor.py\", line 93, in backward\n",
      "    torch.autograd.backward(self, gradient, retain_graph, create_graph)\n",
      "  File \"/home/cvh255/pyenv/py3.6.3/lib/python3.6/site-packages/torch/autograd/__init__.py\", line 90, in backward\n",
      "    allow_unreachable=True)  # allow_unreachable flag\n",
      "KeyboardInterrupt\n"
     ]
    }
   ],
   "source": [
    "!python complete_module_viet.py --model_name \"model1_1\""
   ]
  }
 ],
 "metadata": {
  "kernelspec": {
   "display_name": "Python 3",
   "language": "python",
   "name": "python3"
  },
  "language_info": {
   "codemirror_mode": {
    "name": "ipython",
    "version": 3
   },
   "file_extension": ".py",
   "mimetype": "text/x-python",
   "name": "python",
   "nbconvert_exporter": "python",
   "pygments_lexer": "ipython3",
   "version": "3.6.3"
  }
 },
 "nbformat": 4,
 "nbformat_minor": 2
}
