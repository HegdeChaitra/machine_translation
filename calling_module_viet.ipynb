{
 "cells": [
  {
   "cell_type": "code",
   "execution_count": 2,
   "metadata": {},
   "outputs": [
    {
     "name": "stdout",
     "output_type": "stream",
     "text": [
      "usage: complete_module_viet.py [-h] [--bs BS] [--num_epochs NUM_EPOCHS]\r\n",
      "                               [--save_dir SAVE_DIR] --model_name MODEL_NAME\r\n",
      "                               [--data_path DATA_PATH]\r\n",
      "                               [--model_load MODEL_LOAD] [--max_len MAX_LEN]\r\n",
      "                               [--hid_size HID_SIZE] [--lr LR] [--bi BI]\r\n",
      "                               [--lang_obj LANG_OBJ] [--type TYPE]\r\n",
      "                               [--att_type ATT_TYPE]\r\n",
      "\r\n",
      "optional arguments:\r\n",
      "  -h, --help            show this help message and exit\r\n",
      "  --bs BS               Batch size\r\n",
      "  --num_epochs NUM_EPOCHS\r\n",
      "                        Number of epochs\r\n",
      "  --save_dir SAVE_DIR   directory where models are to be saved.\r\n",
      "                        default=./saved_files/\r\n",
      "  --model_name MODEL_NAME\r\n",
      "                        Name of model to be saved, required=True\r\n",
      "  --data_path DATA_PATH\r\n",
      "                        Path to data, default='.' (current directory)\r\n",
      "  --model_load MODEL_LOAD\r\n",
      "                        model to load for continued training. default=None\r\n",
      "  --max_len MAX_LEN     Maximum length of input sentence to consider.\r\n",
      "                        default=30\r\n",
      "  --hid_size HID_SIZE   hidden size for GRU. default=100\r\n",
      "  --lr LR               Learning rate. default=1e-4\r\n",
      "  --bi BI               Use bidirectional GRUs or not. default=True\r\n",
      "  --lang_obj LANG_OBJ   Previously saved language objects. For the first run,\r\n",
      "                        lang_obj=\"\", for 2nd onwards saved obj has to be\r\n",
      "                        specified. Default:lang_obj.pkl\r\n",
      "  --type TYPE           attention model or non attention model.\r\n",
      "                        options=[\"attention\",\"no_attention\"].\r\n",
      "                        default=\"no_attention\"\r\n",
      "  --att_type ATT_TYPE   attention type. options=[\"type2\", None]. default=None\r\n"
     ]
    }
   ],
   "source": [
    "!python complete_module_viet.py --help"
   ]
  },
  {
   "cell_type": "code",
   "execution_count": null,
   "metadata": {},
   "outputs": [
    {
     "name": "stdout",
     "output_type": "stream",
     "text": [
      "start\n",
      "data loader created\n",
      "encoder decoder objects created\n",
      "starting the training process\n",
      "epoch 0 train loss = 4.469123747633306, time = 104.14766478538513\n",
      "WARNING:root:That's 100 lines that end in a tokenized period ('.')\n",
      "WARNING:root:It looks like you forgot to detokenize your test data, which may hurt your score.\n",
      "WARNING:root:If you insist your data is detokenized, or don't care, you can suppress this message with '--force'.\n",
      "Train BLEU =  0.0077523647615540744\n",
      "WARNING:root:That's 100 lines that end in a tokenized period ('.')\n",
      "WARNING:root:It looks like you forgot to detokenize your test data, which may hurt your score.\n",
      "WARNING:root:If you insist your data is detokenized, or don't care, you can suppress this message with '--force'.\n",
      "validation loss =  3.522662419688945\n",
      "validation BLEU =  0.03589029938665897\n",
      "==================================================\n"
     ]
    }
   ],
   "source": [
    "!python complete_module_viet.py \\\n",
    "--num_epochs 20 \\\n",
    "--model_name \"attenttion type 2\" \\\n",
    "--lang_obj \"\""
   ]
  },
  {
   "cell_type": "code",
   "execution_count": 38,
   "metadata": {},
   "outputs": [
    {
     "name": "stdout",
     "output_type": "stream",
     "text": [
      "/home/cvh255/machine_translation/models_viet.py:44: UserWarning: RNN module weights are not part of single contiguous chunk of memory. This means they need to be compacted at every call, possibly greatly increasing memory usage. To compact weights again call flatten_parameters().\n",
      "  output, hidden = self.gru(output, hidden)\n",
      "/home/cvh255/machine_translation/models_viet.py:111: UserWarning: RNN module weights are not part of single contiguous chunk of memory. This means they need to be compacted at every call, possibly greatly increasing memory usage. To compact weights again call flatten_parameters().\n",
      "  output, hidden = self.gru(output, hidden)\n",
      "--------------------------------------------------\n",
      "Given:  you probably all agree with me that this is a very nice road . EOS\n",
      "Predicted:  you you you you that a . i is a little . . . EOS PAD PAD PAD PAD PAD PAD PAD PAD PAD PAD PAD PAD PAD PAD PAD\n",
      "--------------------------------------------------\n",
      "Given:  even though i was really fortunate to get out , many other north koreans have not been so lucky . EOS\n",
      "Predicted:  i i i &apos;m a to that be the of i i i . . to . . . . EOS PAD PAD PAD PAD PAD PAD PAD PAD PAD\n",
      "--------------------------------------------------\n",
      "Given:  let &apos;s go back to that time , to this city . EOS\n",
      "Predicted:  it &apos;s the , , the , , and be . . EOS PAD PAD PAD PAD PAD PAD PAD PAD PAD PAD PAD PAD PAD PAD PAD PAD PAD\n",
      "--------------------------------------------------\n",
      "Given:  we all knew we were risking our lives -- the teacher , the students and our parents . EOS\n",
      "Predicted:  we &apos;re the , we , , own , we world , and we of we own . EOS PAD PAD PAD PAD PAD PAD PAD PAD PAD PAD PAD\n",
      "--------------------------------------------------\n",
      "Given:  so what you do -- you shut up . EOS\n",
      "Predicted:  so you you you you you you &apos;t . EOS PAD PAD PAD PAD PAD PAD PAD PAD PAD PAD PAD PAD PAD PAD PAD PAD PAD PAD PAD PAD\n",
      "--------------------------------------------------\n",
      "Given:  so we can benefit from the international community for education , english language training , job training , and more . EOS\n",
      "Predicted:  so we have have the the world , , the , and , , , and and , and we than EOS PAD PAD PAD PAD PAD PAD PAD PAD\n",
      "--------------------------------------------------\n",
      "Given:  when she collected the photos from us , she shared a bit of her story with us . EOS\n",
      "Predicted:  when when was the first of the , we was , lot of the , . the . EOS PAD PAD PAD PAD PAD PAD PAD PAD PAD PAD PAD\n",
      "--------------------------------------------------\n",
      "Given:  the city has some of the most beautiful architecture in the world , but it also has one of the highest amounts of abandoned properties in america . EOS\n",
      "Predicted:  the the of a of the world of , , the world , but it &apos;s a a of the world of . the . . the . EOS PAD\n",
      "--------------------------------------------------\n",
      "Given:  and i discovered that lions are afraid of a moving light . EOS\n",
      "Predicted:  i i was that i of a . the lot . . EOS PAD PAD PAD PAD PAD PAD PAD PAD PAD PAD PAD PAD PAD PAD PAD PAD PAD\n",
      "--------------------------------------------------\n",
      "Given:  we &apos;re working with local communities . EOS\n",
      "Predicted:  we we the of the . . EOS PAD PAD PAD PAD PAD PAD PAD PAD PAD PAD PAD PAD PAD PAD PAD PAD PAD PAD PAD PAD PAD PAD\n",
      "--------------------------------------------------\n",
      "Given:  and my neighboring homes heard about this idea . EOS\n",
      "Predicted:  the the are . . . the . . EOS PAD PAD PAD PAD PAD PAD PAD PAD PAD PAD PAD PAD PAD PAD PAD PAD PAD PAD PAD PAD\n",
      "--------------------------------------------------\n",
      "Given:  when his uncle died , UKN inherited his uncle &apos;s debt , which further forced him into being enslaved in the mines . EOS\n",
      "Predicted:  and the the , , and , , the , , , and and the , , the . . the world . EOS PAD PAD PAD PAD PAD PAD\n",
      "--------------------------------------------------\n",
      "Given:  now , that would actually save on a difficult trip to the clinic , and what if patients could do that test themselves , right ? EOS\n",
      "Predicted:  it , it &apos;s be a , the little , , be , , and they you you , be you &apos;s . . and ? EOS PAD PAD PAD\n",
      "--------------------------------------------------\n",
      "Given:  i realized that the man who i loved so much was going to kill me if i let him . EOS\n",
      "Predicted:  i i i i i of i &apos;m i i , i to be . . i &apos;m me . EOS PAD PAD PAD PAD PAD PAD PAD PAD PAD\n",
      "--------------------------------------------------\n",
      "Given:  do they know where we live ? EOS\n",
      "Predicted:  they they &apos;re that it have to EOS PAD PAD PAD PAD PAD PAD PAD PAD PAD PAD PAD PAD PAD PAD PAD PAD PAD PAD PAD PAD PAD PAD\n",
      "--------------------------------------------------\n",
      "Given:  our society needs the qualitative representation of the feminine more than it needs the numerical , quantitative representation of the feminine . EOS\n",
      "Predicted:  and our to to world of and the world of and the and and world of and and . the world . EOS PAD PAD PAD PAD PAD PAD PAD\n",
      "--------------------------------------------------\n",
      "Given:  and if i could communicate just one thing to remi and to sam and to you , it would be that you don &apos;t have to be normal . EOS\n",
      "Predicted:  and if you want you you you , , be , you do you you do you you &apos;s be able you can &apos;t know to do . . EOS\n",
      "--------------------------------------------------\n",
      "Given:  all right . EOS\n",
      "Predicted:  and . . EOS PAD PAD PAD PAD PAD PAD PAD PAD PAD PAD PAD PAD PAD PAD PAD PAD PAD PAD PAD PAD PAD PAD PAD PAD PAD PAD\n",
      "--------------------------------------------------\n",
      "Given:  her name was joan , and she was a mother to me , and her death was sudden and unexpected . EOS\n",
      "Predicted:  and , , a , and i was a little , be , and i , , a , a . EOS PAD PAD PAD PAD PAD PAD PAD PAD\n",
      "--------------------------------------------------\n",
      "Given:  even though they were caught , they were eventually released after heavy international pressure . EOS\n",
      "Predicted:  so , , &apos;re a , but &apos;re the , , , , , . EOS PAD PAD PAD PAD PAD PAD PAD PAD PAD PAD PAD PAD PAD PAD\n",
      "--------------------------------------------------\n",
      "Given:  i want them to take it , but at the same time , i want them to take back their health . &quot; EOS\n",
      "Predicted:  i want to to do , , they i the way , , they want to to do the to own . EOS EOS PAD PAD PAD PAD PAD PAD\n",
      "--------------------------------------------------\n",
      "Given:  my family believes in me . EOS\n",
      "Predicted:  i father . . my . EOS PAD PAD PAD PAD PAD PAD PAD PAD PAD PAD PAD PAD PAD PAD PAD PAD PAD PAD PAD PAD PAD PAD PAD\n",
      "--------------------------------------------------\n",
      "Given:  together we can make our beds , our dinner tables and our families the safe and peaceful oases they should be . EOS\n",
      "Predicted:  we we we we the own and and we and and we own of world of we . . &apos;re . . EOS PAD PAD PAD PAD PAD PAD PAD\n",
      "--------------------------------------------------\n",
      "Given:  absolutely . EOS\n",
      "Predicted:  the . EOS PAD PAD PAD PAD PAD PAD PAD PAD PAD PAD PAD PAD PAD PAD PAD PAD PAD PAD PAD PAD PAD PAD PAD PAD PAD PAD PAD\n",
      "--------------------------------------------------\n",
      "Given:  and then somebody complained . EOS\n",
      "Predicted:  and then they the the EOS PAD PAD PAD PAD PAD PAD PAD PAD PAD PAD PAD PAD PAD PAD PAD PAD PAD PAD PAD PAD PAD PAD PAD PAD\n",
      "--------------------------------------------------\n",
      "Given:  in the trenches . richard UKN , you are something else . EOS\n",
      "Predicted:  so fact , , , , . and . . . . EOS PAD PAD PAD PAD PAD PAD PAD PAD PAD PAD PAD PAD PAD PAD PAD PAD PAD\n",
      "--------------------------------------------------\n",
      "Given:  thus began my journey into modern day slavery . EOS\n",
      "Predicted:  and and to and and the years and . EOS PAD PAD PAD PAD PAD PAD PAD PAD PAD PAD PAD PAD PAD PAD PAD PAD PAD PAD PAD PAD\n",
      "--------------------------------------------------\n",
      "Given:  thinking about death clarifies your life . EOS\n",
      "Predicted:  so is this that . life . EOS PAD PAD PAD PAD PAD PAD PAD PAD PAD PAD PAD PAD PAD PAD PAD PAD PAD PAD PAD PAD PAD PAD\n",
      "--------------------------------------------------\n",
      "Given:  and here i am today . EOS\n",
      "Predicted:  and i i &apos;m a . EOS PAD PAD PAD PAD PAD PAD PAD PAD PAD PAD PAD PAD PAD PAD PAD PAD PAD PAD PAD PAD PAD PAD PAD\n",
      "--------------------------------------------------\n",
      "Given:  no one &apos;s ever refused , and luckily no one &apos;s ever run off with our camera . EOS\n",
      "Predicted:  there , of not , , and we , , of not , . . the own . EOS PAD PAD PAD PAD PAD PAD PAD PAD PAD PAD PAD\n",
      "--------------------------------------------------\n",
      "Given:  after i paid the fine and bribe , my family was released in one month , but soon after , my family was arrested and jailed again in the capital\n",
      "Predicted:  and , &apos;m , first , i , and father , a , the , , and i , , and life , a . the . . the world\n",
      "--------------------------------------------------\n",
      "Given:  now , ballet requires an extraordinary level of expertise and a high level of skill , and probably a level of initial suitability that may well have a genetic component\n"
     ]
    },
    {
     "name": "stdout",
     "output_type": "stream",
     "text": [
      "Predicted:  it this it is is a and and the and it little of of the and and it can lot of the of . &apos;s . . . little .\r\n"
     ]
    }
   ],
   "source": [
    "!python test_model_viet.py \\\n",
    "--model_load \"no_attention_1_1\" \\\n",
    "--lang_obj \"lang_obj.pkl\""
   ]
  },
  {
   "cell_type": "code",
   "execution_count": null,
   "metadata": {},
   "outputs": [],
   "source": []
  },
  {
   "cell_type": "code",
   "execution_count": null,
   "metadata": {},
   "outputs": [],
   "source": []
  }
 ],
 "metadata": {
  "kernelspec": {
   "display_name": "Python 3",
   "language": "python",
   "name": "python3"
  },
  "language_info": {
   "codemirror_mode": {
    "name": "ipython",
    "version": 3
   },
   "file_extension": ".py",
   "mimetype": "text/x-python",
   "name": "python",
   "nbconvert_exporter": "python",
   "pygments_lexer": "ipython3",
   "version": "3.6.6"
  }
 },
 "nbformat": 4,
 "nbformat_minor": 2
}
