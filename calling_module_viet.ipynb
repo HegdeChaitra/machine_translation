{
 "cells": [
  {
   "cell_type": "code",
   "execution_count": 1,
   "metadata": {},
   "outputs": [
    {
     "name": "stdout",
     "output_type": "stream",
     "text": [
      "usage: complete_module_viet.py [-h] [--bs BS] [--num_epochs NUM_EPOCHS]\r\n",
      "                               [--save_dir SAVE_DIR] --model_name MODEL_NAME\r\n",
      "                               [--data_path DATA_PATH]\r\n",
      "                               [--model_load MODEL_LOAD] [--max_len MAX_LEN]\r\n",
      "                               [--hid_size HID_SIZE] [--lr LR] [--bi BI]\r\n",
      "                               [--type TYPE]\r\n",
      "\r\n",
      "optional arguments:\r\n",
      "  -h, --help            show this help message and exit\r\n",
      "  --bs BS               Batch size\r\n",
      "  --num_epochs NUM_EPOCHS\r\n",
      "                        Number of epochs\r\n",
      "  --save_dir SAVE_DIR   directory where models are to be saved.\r\n",
      "                        default=./saved_files/\r\n",
      "  --model_name MODEL_NAME\r\n",
      "                        Name of model to be saved, required=True\r\n",
      "  --data_path DATA_PATH\r\n",
      "                        Path to data, default='.' (current directory)\r\n",
      "  --model_load MODEL_LOAD\r\n",
      "                        model to load for continued training. default=None\r\n",
      "  --max_len MAX_LEN     Maximum length of input sentence to consider.\r\n",
      "                        default=30\r\n",
      "  --hid_size HID_SIZE   hidden size for GRU. default=100\r\n",
      "  --lr LR               Learning rate. default=1e-4\r\n",
      "  --bi BI               Use bidirectional GRUs or not. default=True\r\n",
      "  --type TYPE           attention model or non attention model.\r\n",
      "                        options=[\"attention\",\"no_attention\"].\r\n",
      "                        default=\"no_attention\"\r\n"
     ]
    }
   ],
   "source": [
    "!python complete_module_viet.py --help"
   ]
  },
  {
   "cell_type": "code",
   "execution_count": null,
   "metadata": {},
   "outputs": [
    {
     "name": "stdout",
     "output_type": "stream",
     "text": [
      "start\n",
      "data loader created\n",
      "encoder decoder objects created\n",
      "starting the training process\n",
      "epoch 0 train loss = 6.8242092641109355, time = 531.7331218719482\n",
      "Train BLEU =  0.0\n",
      "validation loss =  6.032174263976534\n",
      "validation BLEU =  0.0\n",
      "==================================================\n",
      "epoch 1 train loss = 5.908236018349273, time = 530.450110912323\n",
      "Train BLEU =  0.0\n",
      "validation loss =  5.793963523800853\n",
      "validation BLEU =  0.0\n",
      "==================================================\n"
     ]
    }
   ],
   "source": [
    "!python complete_module_viet.py \\\n",
    "--num_epochs 20 \\\n",
    "--data_path '/scratch/ark576/machine_translation_data' \\\n",
    "--model_name \"bi_GRU_w_attention_viet\" \\\n",
    "--type 'attention'"
   ]
  },
  {
   "cell_type": "code",
   "execution_count": null,
   "metadata": {},
   "outputs": [],
   "source": []
  }
 ],
 "metadata": {
  "kernelspec": {
   "display_name": "Python 3",
   "language": "python",
   "name": "python3"
  },
  "language_info": {
   "codemirror_mode": {
    "name": "ipython",
    "version": 3
   },
   "file_extension": ".py",
   "mimetype": "text/x-python",
   "name": "python",
   "nbconvert_exporter": "python",
   "pygments_lexer": "ipython3",
   "version": "3.6.6"
  }
 },
 "nbformat": 4,
 "nbformat_minor": 2
}
